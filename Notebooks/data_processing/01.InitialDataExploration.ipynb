{
 "cells": [
  {
   "cell_type": "markdown",
   "metadata": {},
   "source": [
    "# Initial Exploration\n",
    "\n",
    "In this notebook, we will explore the data, check for missing values, check categorical variables and do some basic statistical analysis."
   ]
  },
  {
   "cell_type": "code",
   "execution_count": 1,
   "metadata": {},
   "outputs": [],
   "source": [
    "import polars as pl\n",
    "import duckdb as db\n",
    "import pandas as pd\n",
    "import numpy as np\n",
    "\n",
    "from IPython.core.interactiveshell import InteractiveShell\n",
    "InteractiveShell.ast_node_interactivity = \"all\""
   ]
  },
  {
   "cell_type": "code",
   "execution_count": 2,
   "metadata": {},
   "outputs": [
    {
     "data": {
      "text/html": [
       "<div>\n",
       "<style scoped>\n",
       "    .dataframe tbody tr th:only-of-type {\n",
       "        vertical-align: middle;\n",
       "    }\n",
       "\n",
       "    .dataframe tbody tr th {\n",
       "        vertical-align: top;\n",
       "    }\n",
       "\n",
       "    .dataframe thead th {\n",
       "        text-align: right;\n",
       "    }\n",
       "</style>\n",
       "<table border=\"1\" class=\"dataframe\">\n",
       "  <thead>\n",
       "    <tr style=\"text-align: right;\">\n",
       "      <th></th>\n",
       "      <th>ID</th>\n",
       "      <th>Store_id</th>\n",
       "      <th>Store_Type</th>\n",
       "      <th>Location_Type</th>\n",
       "      <th>Region_Code</th>\n",
       "      <th>Date</th>\n",
       "      <th>Holiday</th>\n",
       "      <th>Discount</th>\n",
       "      <th>Orders</th>\n",
       "      <th>Sales</th>\n",
       "    </tr>\n",
       "  </thead>\n",
       "  <tbody>\n",
       "    <tr>\n",
       "      <th>0</th>\n",
       "      <td>T1000001</td>\n",
       "      <td>1</td>\n",
       "      <td>S1</td>\n",
       "      <td>L3</td>\n",
       "      <td>R1</td>\n",
       "      <td>2018-01-01</td>\n",
       "      <td>1</td>\n",
       "      <td>Yes</td>\n",
       "      <td>9</td>\n",
       "      <td>7011.84</td>\n",
       "    </tr>\n",
       "    <tr>\n",
       "      <th>1</th>\n",
       "      <td>T1000002</td>\n",
       "      <td>253</td>\n",
       "      <td>S4</td>\n",
       "      <td>L2</td>\n",
       "      <td>R1</td>\n",
       "      <td>2018-01-01</td>\n",
       "      <td>1</td>\n",
       "      <td>Yes</td>\n",
       "      <td>60</td>\n",
       "      <td>51789.12</td>\n",
       "    </tr>\n",
       "    <tr>\n",
       "      <th>2</th>\n",
       "      <td>T1000003</td>\n",
       "      <td>252</td>\n",
       "      <td>S3</td>\n",
       "      <td>L2</td>\n",
       "      <td>R1</td>\n",
       "      <td>2018-01-01</td>\n",
       "      <td>1</td>\n",
       "      <td>Yes</td>\n",
       "      <td>42</td>\n",
       "      <td>36868.20</td>\n",
       "    </tr>\n",
       "    <tr>\n",
       "      <th>3</th>\n",
       "      <td>T1000004</td>\n",
       "      <td>251</td>\n",
       "      <td>S2</td>\n",
       "      <td>L3</td>\n",
       "      <td>R1</td>\n",
       "      <td>2018-01-01</td>\n",
       "      <td>1</td>\n",
       "      <td>Yes</td>\n",
       "      <td>23</td>\n",
       "      <td>19715.16</td>\n",
       "    </tr>\n",
       "    <tr>\n",
       "      <th>4</th>\n",
       "      <td>T1000005</td>\n",
       "      <td>250</td>\n",
       "      <td>S2</td>\n",
       "      <td>L3</td>\n",
       "      <td>R4</td>\n",
       "      <td>2018-01-01</td>\n",
       "      <td>1</td>\n",
       "      <td>Yes</td>\n",
       "      <td>62</td>\n",
       "      <td>45614.52</td>\n",
       "    </tr>\n",
       "    <tr>\n",
       "      <th>...</th>\n",
       "      <td>...</td>\n",
       "      <td>...</td>\n",
       "      <td>...</td>\n",
       "      <td>...</td>\n",
       "      <td>...</td>\n",
       "      <td>...</td>\n",
       "      <td>...</td>\n",
       "      <td>...</td>\n",
       "      <td>...</td>\n",
       "      <td>...</td>\n",
       "    </tr>\n",
       "    <tr>\n",
       "      <th>188335</th>\n",
       "      <td>T1188336</td>\n",
       "      <td>149</td>\n",
       "      <td>S2</td>\n",
       "      <td>L3</td>\n",
       "      <td>R2</td>\n",
       "      <td>2019-05-31</td>\n",
       "      <td>1</td>\n",
       "      <td>Yes</td>\n",
       "      <td>51</td>\n",
       "      <td>37272.00</td>\n",
       "    </tr>\n",
       "    <tr>\n",
       "      <th>188336</th>\n",
       "      <td>T1188337</td>\n",
       "      <td>153</td>\n",
       "      <td>S4</td>\n",
       "      <td>L2</td>\n",
       "      <td>R1</td>\n",
       "      <td>2019-05-31</td>\n",
       "      <td>1</td>\n",
       "      <td>No</td>\n",
       "      <td>90</td>\n",
       "      <td>54572.64</td>\n",
       "    </tr>\n",
       "    <tr>\n",
       "      <th>188337</th>\n",
       "      <td>T1188338</td>\n",
       "      <td>154</td>\n",
       "      <td>S1</td>\n",
       "      <td>L3</td>\n",
       "      <td>R2</td>\n",
       "      <td>2019-05-31</td>\n",
       "      <td>1</td>\n",
       "      <td>No</td>\n",
       "      <td>56</td>\n",
       "      <td>31624.56</td>\n",
       "    </tr>\n",
       "    <tr>\n",
       "      <th>188338</th>\n",
       "      <td>T1188339</td>\n",
       "      <td>155</td>\n",
       "      <td>S3</td>\n",
       "      <td>L1</td>\n",
       "      <td>R2</td>\n",
       "      <td>2019-05-31</td>\n",
       "      <td>1</td>\n",
       "      <td>Yes</td>\n",
       "      <td>70</td>\n",
       "      <td>49162.41</td>\n",
       "    </tr>\n",
       "    <tr>\n",
       "      <th>188339</th>\n",
       "      <td>T1188340</td>\n",
       "      <td>152</td>\n",
       "      <td>S2</td>\n",
       "      <td>L1</td>\n",
       "      <td>R1</td>\n",
       "      <td>2019-05-31</td>\n",
       "      <td>1</td>\n",
       "      <td>No</td>\n",
       "      <td>47</td>\n",
       "      <td>37977.00</td>\n",
       "    </tr>\n",
       "  </tbody>\n",
       "</table>\n",
       "<p>188340 rows × 10 columns</p>\n",
       "</div>"
      ],
      "text/plain": [
       "              ID  Store_id Store_Type Location_Type Region_Code       Date  \\\n",
       "0       T1000001         1         S1            L3          R1 2018-01-01   \n",
       "1       T1000002       253         S4            L2          R1 2018-01-01   \n",
       "2       T1000003       252         S3            L2          R1 2018-01-01   \n",
       "3       T1000004       251         S2            L3          R1 2018-01-01   \n",
       "4       T1000005       250         S2            L3          R4 2018-01-01   \n",
       "...          ...       ...        ...           ...         ...        ...   \n",
       "188335  T1188336       149         S2            L3          R2 2019-05-31   \n",
       "188336  T1188337       153         S4            L2          R1 2019-05-31   \n",
       "188337  T1188338       154         S1            L3          R2 2019-05-31   \n",
       "188338  T1188339       155         S3            L1          R2 2019-05-31   \n",
       "188339  T1188340       152         S2            L1          R1 2019-05-31   \n",
       "\n",
       "        Holiday Discount  Orders     Sales  \n",
       "0             1      Yes       9   7011.84  \n",
       "1             1      Yes      60  51789.12  \n",
       "2             1      Yes      42  36868.20  \n",
       "3             1      Yes      23  19715.16  \n",
       "4             1      Yes      62  45614.52  \n",
       "...         ...      ...     ...       ...  \n",
       "188335        1      Yes      51  37272.00  \n",
       "188336        1       No      90  54572.64  \n",
       "188337        1       No      56  31624.56  \n",
       "188338        1      Yes      70  49162.41  \n",
       "188339        1       No      47  37977.00  \n",
       "\n",
       "[188340 rows x 10 columns]"
      ]
     },
     "execution_count": 2,
     "metadata": {},
     "output_type": "execute_result"
    }
   ],
   "source": [
    "train=pd.read_csv(\"../../data/raw/TRAIN.csv\", parse_dates=['Date'])\n",
    "train"
   ]
  },
  {
   "cell_type": "code",
   "execution_count": 4,
   "metadata": {},
   "outputs": [
    {
     "data": {
      "text/plain": [
       "ID                       object\n",
       "Store_id                  int64\n",
       "Store_Type               object\n",
       "Location_Type            object\n",
       "Region_Code              object\n",
       "Date             datetime64[ns]\n",
       "Holiday                   int64\n",
       "Discount                 object\n",
       "Orders                    int64\n",
       "Sales                   float64\n",
       "dtype: object"
      ]
     },
     "execution_count": 4,
     "metadata": {},
     "output_type": "execute_result"
    }
   ],
   "source": [
    "train.dtypes"
   ]
  },
  {
   "cell_type": "code",
   "execution_count": 5,
   "metadata": {},
   "outputs": [
    {
     "name": "stdout",
     "output_type": "stream",
     "text": [
      "<class 'pandas.core.frame.DataFrame'>\n",
      "RangeIndex: 188340 entries, 0 to 188339\n",
      "Data columns (total 10 columns):\n",
      " #   Column         Non-Null Count   Dtype         \n",
      "---  ------         --------------   -----         \n",
      " 0   ID             188340 non-null  object        \n",
      " 1   Store_id       188340 non-null  int64         \n",
      " 2   Store_Type     188340 non-null  object        \n",
      " 3   Location_Type  188340 non-null  object        \n",
      " 4   Region_Code    188340 non-null  object        \n",
      " 5   Date           188340 non-null  datetime64[ns]\n",
      " 6   Holiday        188340 non-null  int64         \n",
      " 7   Discount       188340 non-null  object        \n",
      " 8   Orders         188340 non-null  int64         \n",
      " 9   Sales          188340 non-null  float64       \n",
      "dtypes: datetime64[ns](1), float64(1), int64(3), object(5)\n",
      "memory usage: 14.4+ MB\n"
     ]
    }
   ],
   "source": [
    "train.info()"
   ]
  },
  {
   "cell_type": "code",
   "execution_count": 6,
   "metadata": {},
   "outputs": [
    {
     "data": {
      "text/html": [
       "<div>\n",
       "<style scoped>\n",
       "    .dataframe tbody tr th:only-of-type {\n",
       "        vertical-align: middle;\n",
       "    }\n",
       "\n",
       "    .dataframe tbody tr th {\n",
       "        vertical-align: top;\n",
       "    }\n",
       "\n",
       "    .dataframe thead th {\n",
       "        text-align: right;\n",
       "    }\n",
       "</style>\n",
       "<table border=\"1\" class=\"dataframe\">\n",
       "  <thead>\n",
       "    <tr style=\"text-align: right;\">\n",
       "      <th></th>\n",
       "      <th>Store_id</th>\n",
       "      <th>Date</th>\n",
       "      <th>Holiday</th>\n",
       "      <th>Orders</th>\n",
       "      <th>Sales</th>\n",
       "    </tr>\n",
       "  </thead>\n",
       "  <tbody>\n",
       "    <tr>\n",
       "      <th>count</th>\n",
       "      <td>188340.000000</td>\n",
       "      <td>188340</td>\n",
       "      <td>188340.000000</td>\n",
       "      <td>188340.000000</td>\n",
       "      <td>188340.000000</td>\n",
       "    </tr>\n",
       "    <tr>\n",
       "      <th>mean</th>\n",
       "      <td>183.000000</td>\n",
       "      <td>2018-09-15 12:00:00.000000256</td>\n",
       "      <td>0.131783</td>\n",
       "      <td>68.205692</td>\n",
       "      <td>42784.327982</td>\n",
       "    </tr>\n",
       "    <tr>\n",
       "      <th>min</th>\n",
       "      <td>1.000000</td>\n",
       "      <td>2018-01-01 00:00:00</td>\n",
       "      <td>0.000000</td>\n",
       "      <td>0.000000</td>\n",
       "      <td>0.000000</td>\n",
       "    </tr>\n",
       "    <tr>\n",
       "      <th>25%</th>\n",
       "      <td>92.000000</td>\n",
       "      <td>2018-05-09 18:00:00</td>\n",
       "      <td>0.000000</td>\n",
       "      <td>48.000000</td>\n",
       "      <td>30426.000000</td>\n",
       "    </tr>\n",
       "    <tr>\n",
       "      <th>50%</th>\n",
       "      <td>183.000000</td>\n",
       "      <td>2018-09-15 12:00:00</td>\n",
       "      <td>0.000000</td>\n",
       "      <td>63.000000</td>\n",
       "      <td>39678.000000</td>\n",
       "    </tr>\n",
       "    <tr>\n",
       "      <th>75%</th>\n",
       "      <td>274.000000</td>\n",
       "      <td>2019-01-22 06:00:00</td>\n",
       "      <td>0.000000</td>\n",
       "      <td>82.000000</td>\n",
       "      <td>51909.000000</td>\n",
       "    </tr>\n",
       "    <tr>\n",
       "      <th>max</th>\n",
       "      <td>365.000000</td>\n",
       "      <td>2019-05-31 00:00:00</td>\n",
       "      <td>1.000000</td>\n",
       "      <td>371.000000</td>\n",
       "      <td>247215.000000</td>\n",
       "    </tr>\n",
       "    <tr>\n",
       "      <th>std</th>\n",
       "      <td>105.366308</td>\n",
       "      <td>NaN</td>\n",
       "      <td>0.338256</td>\n",
       "      <td>30.467415</td>\n",
       "      <td>18456.708302</td>\n",
       "    </tr>\n",
       "  </tbody>\n",
       "</table>\n",
       "</div>"
      ],
      "text/plain": [
       "            Store_id                           Date        Holiday  \\\n",
       "count  188340.000000                         188340  188340.000000   \n",
       "mean      183.000000  2018-09-15 12:00:00.000000256       0.131783   \n",
       "min         1.000000            2018-01-01 00:00:00       0.000000   \n",
       "25%        92.000000            2018-05-09 18:00:00       0.000000   \n",
       "50%       183.000000            2018-09-15 12:00:00       0.000000   \n",
       "75%       274.000000            2019-01-22 06:00:00       0.000000   \n",
       "max       365.000000            2019-05-31 00:00:00       1.000000   \n",
       "std       105.366308                            NaN       0.338256   \n",
       "\n",
       "              Orders          Sales  \n",
       "count  188340.000000  188340.000000  \n",
       "mean       68.205692   42784.327982  \n",
       "min         0.000000       0.000000  \n",
       "25%        48.000000   30426.000000  \n",
       "50%        63.000000   39678.000000  \n",
       "75%        82.000000   51909.000000  \n",
       "max       371.000000  247215.000000  \n",
       "std        30.467415   18456.708302  "
      ]
     },
     "execution_count": 6,
     "metadata": {},
     "output_type": "execute_result"
    }
   ],
   "source": [
    "train.describe()"
   ]
  },
  {
   "cell_type": "markdown",
   "metadata": {},
   "source": [
    "<b style='padding: 4px 10px 6px 10px;border-radius: 5px;background: #009688;color: #fff;display: inline-block;'>Observations</b>\n",
    "\n",
    "- The dataset contains 188340 records"
   ]
  },
  {
   "cell_type": "code",
   "execution_count": 7,
   "metadata": {},
   "outputs": [
    {
     "data": {
      "text/plain": [
       "Store_Type\n",
       "S1    88752\n",
       "S4    45924\n",
       "S2    28896\n",
       "S3    24768\n",
       "Name: count, dtype: int64"
      ]
     },
     "execution_count": 7,
     "metadata": {},
     "output_type": "execute_result"
    }
   ],
   "source": [
    "train[\"Store_Type\"].value_counts()"
   ]
  },
  {
   "cell_type": "code",
   "execution_count": 8,
   "metadata": {},
   "outputs": [
    {
     "data": {
      "text/plain": [
       "Region_Code\n",
       "R1    63984\n",
       "R2    54180\n",
       "R3    44376\n",
       "R4    25800\n",
       "Name: count, dtype: int64"
      ]
     },
     "execution_count": 8,
     "metadata": {},
     "output_type": "execute_result"
    }
   ],
   "source": [
    "train[\"Region_Code\"].value_counts()"
   ]
  },
  {
   "cell_type": "code",
   "execution_count": 9,
   "metadata": {},
   "outputs": [
    {
     "data": {
      "text/plain": [
       "Location_Type\n",
       "L1    85140\n",
       "L2    48504\n",
       "L3    29928\n",
       "L5    13932\n",
       "L4    10836\n",
       "Name: count, dtype: int64"
      ]
     },
     "execution_count": 9,
     "metadata": {},
     "output_type": "execute_result"
    }
   ],
   "source": [
    "train[\"Location_Type\"].value_counts()"
   ]
  },
  {
   "cell_type": "code",
   "execution_count": 10,
   "metadata": {},
   "outputs": [
    {
     "data": {
      "text/plain": [
       "Store_id\n",
       "1      516\n",
       "61     516\n",
       "63     516\n",
       "64     516\n",
       "65     516\n",
       "      ... \n",
       "338    516\n",
       "349    516\n",
       "350    516\n",
       "351    516\n",
       "364    516\n",
       "Name: count, Length: 365, dtype: int64"
      ]
     },
     "execution_count": 10,
     "metadata": {},
     "output_type": "execute_result"
    }
   ],
   "source": [
    "train[\"Store_id\"].value_counts()"
   ]
  },
  {
   "cell_type": "markdown",
   "metadata": {},
   "source": [
    "<b style='padding: 4px 10px 6px 10px;border-radius: 5px;background: #009688;color: #fff;display: inline-block;'>Observations</b>\n",
    "\n",
    "- The dataset contains data of 365 stores"
   ]
  },
  {
   "cell_type": "code",
   "execution_count": 9,
   "metadata": {},
   "outputs": [
    {
     "data": {
      "text/html": [
       "<div><style>\n",
       ".dataframe > thead > tr,\n",
       ".dataframe > tbody > tr {\n",
       "  text-align: right;\n",
       "  white-space: pre-wrap;\n",
       "}\n",
       "</style>\n",
       "<small>shape: (365, 10)</small><table border=\"1\" class=\"dataframe\"><thead><tr><th>ID</th><th>Store_id</th><th>Store_Type</th><th>Location_Type</th><th>Region_Code</th><th>Date</th><th>Holiday</th><th>Discount</th><th>Order</th><th>Sales</th></tr><tr><td>str</td><td>i64</td><td>str</td><td>str</td><td>str</td><td>str</td><td>i64</td><td>str</td><td>i64</td><td>f64</td></tr></thead><tbody><tr><td>&quot;T1000001&quot;</td><td>1</td><td>&quot;S1&quot;</td><td>&quot;L3&quot;</td><td>&quot;R1&quot;</td><td>&quot;2018-01-01&quot;</td><td>1</td><td>&quot;Yes&quot;</td><td>9</td><td>7011.84</td></tr><tr><td>&quot;T1000002&quot;</td><td>253</td><td>&quot;S4&quot;</td><td>&quot;L2&quot;</td><td>&quot;R1&quot;</td><td>&quot;2018-01-01&quot;</td><td>1</td><td>&quot;Yes&quot;</td><td>60</td><td>51789.12</td></tr><tr><td>&quot;T1000003&quot;</td><td>252</td><td>&quot;S3&quot;</td><td>&quot;L2&quot;</td><td>&quot;R1&quot;</td><td>&quot;2018-01-01&quot;</td><td>1</td><td>&quot;Yes&quot;</td><td>42</td><td>36868.2</td></tr><tr><td>&quot;T1000004&quot;</td><td>251</td><td>&quot;S2&quot;</td><td>&quot;L3&quot;</td><td>&quot;R1&quot;</td><td>&quot;2018-01-01&quot;</td><td>1</td><td>&quot;Yes&quot;</td><td>23</td><td>19715.16</td></tr><tr><td>&quot;T1000005&quot;</td><td>250</td><td>&quot;S2&quot;</td><td>&quot;L3&quot;</td><td>&quot;R4&quot;</td><td>&quot;2018-01-01&quot;</td><td>1</td><td>&quot;Yes&quot;</td><td>62</td><td>45614.52</td></tr><tr><td>&hellip;</td><td>&hellip;</td><td>&hellip;</td><td>&hellip;</td><td>&hellip;</td><td>&hellip;</td><td>&hellip;</td><td>&hellip;</td><td>&hellip;</td><td>&hellip;</td></tr><tr><td>&quot;T1000361&quot;</td><td>359</td><td>&quot;S2&quot;</td><td>&quot;L3&quot;</td><td>&quot;R2&quot;</td><td>&quot;2018-01-01&quot;</td><td>1</td><td>&quot;Yes&quot;</td><td>55</td><td>43514.28</td></tr><tr><td>&quot;T1000362&quot;</td><td>362</td><td>&quot;S1&quot;</td><td>&quot;L3&quot;</td><td>&quot;R3&quot;</td><td>&quot;2018-01-01&quot;</td><td>1</td><td>&quot;Yes&quot;</td><td>37</td><td>27770.4</td></tr><tr><td>&quot;T1000363&quot;</td><td>363</td><td>&quot;S1&quot;</td><td>&quot;L1&quot;</td><td>&quot;R2&quot;</td><td>&quot;2018-01-01&quot;</td><td>1</td><td>&quot;Yes&quot;</td><td>42</td><td>29676.24</td></tr><tr><td>&quot;T1000364&quot;</td><td>360</td><td>&quot;S2&quot;</td><td>&quot;L1&quot;</td><td>&quot;R1&quot;</td><td>&quot;2018-01-01&quot;</td><td>1</td><td>&quot;Yes&quot;</td><td>28</td><td>25680.27</td></tr><tr><td>&quot;T1000365&quot;</td><td>364</td><td>&quot;S2&quot;</td><td>&quot;L3&quot;</td><td>&quot;R2&quot;</td><td>&quot;2018-01-01&quot;</td><td>1</td><td>&quot;Yes&quot;</td><td>43</td><td>29538.0</td></tr></tbody></table></div>"
      ],
      "text/plain": [
       "shape: (365, 10)\n",
       "┌──────────┬──────────┬────────────┬───────────────┬───┬─────────┬──────────┬───────┬──────────┐\n",
       "│ ID       ┆ Store_id ┆ Store_Type ┆ Location_Type ┆ … ┆ Holiday ┆ Discount ┆ Order ┆ Sales    │\n",
       "│ ---      ┆ ---      ┆ ---        ┆ ---           ┆   ┆ ---     ┆ ---      ┆ ---   ┆ ---      │\n",
       "│ str      ┆ i64      ┆ str        ┆ str           ┆   ┆ i64     ┆ str      ┆ i64   ┆ f64      │\n",
       "╞══════════╪══════════╪════════════╪═══════════════╪═══╪═════════╪══════════╪═══════╪══════════╡\n",
       "│ T1000001 ┆ 1        ┆ S1         ┆ L3            ┆ … ┆ 1       ┆ Yes      ┆ 9     ┆ 7011.84  │\n",
       "│ T1000002 ┆ 253      ┆ S4         ┆ L2            ┆ … ┆ 1       ┆ Yes      ┆ 60    ┆ 51789.12 │\n",
       "│ T1000003 ┆ 252      ┆ S3         ┆ L2            ┆ … ┆ 1       ┆ Yes      ┆ 42    ┆ 36868.2  │\n",
       "│ T1000004 ┆ 251      ┆ S2         ┆ L3            ┆ … ┆ 1       ┆ Yes      ┆ 23    ┆ 19715.16 │\n",
       "│ T1000005 ┆ 250      ┆ S2         ┆ L3            ┆ … ┆ 1       ┆ Yes      ┆ 62    ┆ 45614.52 │\n",
       "│ …        ┆ …        ┆ …          ┆ …             ┆ … ┆ …       ┆ …        ┆ …     ┆ …        │\n",
       "│ T1000361 ┆ 359      ┆ S2         ┆ L3            ┆ … ┆ 1       ┆ Yes      ┆ 55    ┆ 43514.28 │\n",
       "│ T1000362 ┆ 362      ┆ S1         ┆ L3            ┆ … ┆ 1       ┆ Yes      ┆ 37    ┆ 27770.4  │\n",
       "│ T1000363 ┆ 363      ┆ S1         ┆ L1            ┆ … ┆ 1       ┆ Yes      ┆ 42    ┆ 29676.24 │\n",
       "│ T1000364 ┆ 360      ┆ S2         ┆ L1            ┆ … ┆ 1       ┆ Yes      ┆ 28    ┆ 25680.27 │\n",
       "│ T1000365 ┆ 364      ┆ S2         ┆ L3            ┆ … ┆ 1       ┆ Yes      ┆ 43    ┆ 29538.0  │\n",
       "└──────────┴──────────┴────────────┴───────────────┴───┴─────────┴──────────┴───────┴──────────┘"
      ]
     },
     "execution_count": 9,
     "metadata": {},
     "output_type": "execute_result"
    }
   ],
   "source": [
    "train.filter(pl.col(\"Date\") == \"2018-01-01\")"
   ]
  },
  {
   "cell_type": "code",
   "execution_count": 24,
   "metadata": {},
   "outputs": [
    {
     "data": {
      "text/plain": [
       "┌─────────────┬───────────────┬────────────┬───────┐\n",
       "│ Region_Code │ Location_Type │ Store_Type │  cnt  │\n",
       "│   varchar   │    varchar    │  varchar   │ int64 │\n",
       "├─────────────┼───────────────┼────────────┼───────┤\n",
       "│ R1          │ L1            │ S1         │  8772 │\n",
       "│ R1          │ L1            │ S2         │  1032 │\n",
       "│ R1          │ L1            │ S3         │  5676 │\n",
       "│ R1          │ L1            │ S4         │ 10836 │\n",
       "│ R1          │ L2            │ S1         │   516 │\n",
       "│ R1          │ L2            │ S3         │  2064 │\n",
       "│ R1          │ L2            │ S4         │ 17028 │\n",
       "│ R1          │ L3            │ S1         │  6708 │\n",
       "│ R1          │ L3            │ S2         │   516 │\n",
       "│ R1          │ L3            │ S3         │  1548 │\n",
       "│ ·           │ ·             │ ·          │    ·  │\n",
       "│ ·           │ ·             │ ·          │    ·  │\n",
       "│ ·           │ ·             │ ·          │    ·  │\n",
       "│ R4          │ L1            │ S2         │  1032 │\n",
       "│ R4          │ L1            │ S3         │   516 │\n",
       "│ R4          │ L1            │ S4         │   516 │\n",
       "│ R4          │ L2            │ S1         │  1548 │\n",
       "│ R4          │ L2            │ S3         │  2580 │\n",
       "│ R4          │ L2            │ S4         │  2064 │\n",
       "│ R4          │ L3            │ S1         │   516 │\n",
       "│ R4          │ L3            │ S2         │  2580 │\n",
       "│ R4          │ L4            │ S2         │  1032 │\n",
       "│ R4          │ L5            │ S2         │  2064 │\n",
       "├─────────────┴───────────────┴────────────┴───────┤\n",
       "│ 50 rows (20 shown)                     4 columns │\n",
       "└──────────────────────────────────────────────────┘"
      ]
     },
     "execution_count": 24,
     "metadata": {},
     "output_type": "execute_result"
    }
   ],
   "source": [
    "db.sql(\"\"\"\n",
    "    select  Region_Code,Location_Type, Store_Type, count(*) cnt from train group by Region_Code,Location_Type, Store_Type order by Region_Code,Location_Type, Store_Type\n",
    "\"\"\")"
   ]
  },
  {
   "cell_type": "markdown",
   "metadata": {},
   "source": [
    "<b style='padding: 4px 10px 6px 10px;border-radius: 5px;background: #009688;color: #fff;display: inline-block;'>Observations</b>\n",
    "\n",
    "- It seems like the stores are distributed in 4 regions. For a high level forecasting we can create 4 different models, 1 for each region. \n",
    "- We can also build a global model for entire dataset."
   ]
  },
  {
   "cell_type": "code",
   "execution_count": 7,
   "metadata": {},
   "outputs": [
    {
     "data": {
      "text/plain": [
       "┌────────────┬─────────┐\n",
       "│    Date    │ Holiday │\n",
       "│  varchar   │  int64  │\n",
       "├────────────┼─────────┤\n",
       "│ 2018-02-24 │       0 │\n",
       "│ 2018-04-05 │       0 │\n",
       "│ 2018-06-08 │       0 │\n",
       "│ 2018-07-11 │       0 │\n",
       "│ 2018-08-10 │       0 │\n",
       "│ 2018-11-17 │       0 │\n",
       "│ 2018-12-19 │       0 │\n",
       "│ 2019-01-18 │       0 │\n",
       "│ 2019-02-21 │       0 │\n",
       "│ 2019-05-31 │       1 │\n",
       "│     ·      │       · │\n",
       "│     ·      │       · │\n",
       "│     ·      │       · │\n",
       "│ 2018-11-11 │       0 │\n",
       "│ 2019-02-17 │       0 │\n",
       "│ 2019-04-23 │       0 │\n",
       "│ 2018-05-16 │       0 │\n",
       "│ 2018-06-18 │       0 │\n",
       "│ 2018-02-21 │       0 │\n",
       "│ 2018-07-08 │       0 │\n",
       "│ 2018-06-28 │       0 │\n",
       "│ 2019-03-13 │       0 │\n",
       "│ 2018-09-06 │       0 │\n",
       "├────────────┴─────────┤\n",
       "│ 516 rows (20 shown)  │\n",
       "└──────────────────────┘"
      ]
     },
     "execution_count": 7,
     "metadata": {},
     "output_type": "execute_result"
    },
    {
     "data": {
      "text/plain": [
       "┌────────────┐\n",
       "│    Date    │\n",
       "│  varchar   │\n",
       "├────────────┤\n",
       "│ 2018-04-08 │\n",
       "│ 2018-06-12 │\n",
       "│ 2018-07-14 │\n",
       "│ 2018-08-14 │\n",
       "│ 2018-10-19 │\n",
       "│ 2018-10-20 │\n",
       "│ 2018-12-21 │\n",
       "│ 2018-12-22 │\n",
       "│ 2019-03-30 │\n",
       "│ 2019-04-30 │\n",
       "│     ·      │\n",
       "│     ·      │\n",
       "│     ·      │\n",
       "│ 2018-07-09 │\n",
       "│ 2018-09-11 │\n",
       "│ 2018-12-16 │\n",
       "│ 2018-02-22 │\n",
       "│ 2018-02-24 │\n",
       "│ 2018-11-06 │\n",
       "│ 2018-01-28 │\n",
       "│ 2018-11-30 │\n",
       "│ 2018-07-16 │\n",
       "│ 2018-04-04 │\n",
       "├────────────┤\n",
       "│  516 rows  │\n",
       "│ (20 shown) │\n",
       "└────────────┘"
      ]
     },
     "execution_count": 7,
     "metadata": {},
     "output_type": "execute_result"
    }
   ],
   "source": [
    "db.sql(\"\"\"\n",
    "select distinct Date, Holiday from train\n",
    " \"\"\")\n",
    "db.sql(\"\"\"\n",
    "select distinct Date from train\n",
    " \"\"\")"
   ]
  },
  {
   "cell_type": "markdown",
   "metadata": {},
   "source": [
    "# Report\n",
    "\n",
    "- The dataset contains 188340 records\n",
    "- The dataset contains data of 365 stores\n",
    "- It seems like the stores are distributed in 4 regions. For a high level forecasting we can create 4 different models, 1 for each region."
   ]
  }
 ],
 "metadata": {
  "kernelspec": {
   "display_name": "base",
   "language": "python",
   "name": "python3"
  },
  "language_info": {
   "codemirror_mode": {
    "name": "ipython",
    "version": 3
   },
   "file_extension": ".py",
   "mimetype": "text/x-python",
   "name": "python",
   "nbconvert_exporter": "python",
   "pygments_lexer": "ipython3",
   "version": "3.12.2"
  }
 },
 "nbformat": 4,
 "nbformat_minor": 2
}
