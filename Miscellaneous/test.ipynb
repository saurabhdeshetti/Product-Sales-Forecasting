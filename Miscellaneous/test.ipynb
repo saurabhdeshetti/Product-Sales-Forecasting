{
 "cells": [
  {
   "cell_type": "code",
   "execution_count": 10,
   "metadata": {},
   "outputs": [],
   "source": [
    "import nbformat as nbf\n",
    "from bs4 import BeautifulSoup\n",
    "import re\n",
    "\n",
    "# Read the notebook\n",
    "ntbk = nbf.read(\"./01.InitialDataExploration.ipynb\", nbf.NO_CONVERT)\n",
    "\n",
    "def remove_html_tags(text):\n",
    "    # Define the regex pattern to detect any <b> tag with any style and any text content\n",
    "    pattern = r\"<b[^>]*>.*?</b>\"\n",
    "    # Replace the matched <b> tags with an empty string\n",
    "    text = re.sub(pattern, '', text)\n",
    "    # Remove any other HTML tags\n",
    "    clean = re.compile('<.*?>')\n",
    "    return re.sub(clean, '', text)\n",
    "\n",
    "# Open the file in write mode to overwrite existing content\n",
    "with open(\"01.InitialDataExploration.md\", \"w\") as f:\n",
    "    for cell in ntbk.cells:\n",
    "        if cell.cell_type == 'markdown':\n",
    "            # Strip HTML tags\n",
    "            text = remove_html_tags(cell.source)\n",
    "            f.write(text)\n",
    "            f.write(\"\\n\\n\")  # Add two newlines to separate each cell"
   ]
  },
  {
   "cell_type": "code",
   "execution_count": null,
   "metadata": {},
   "outputs": [],
   "source": [
    "import argparse\n",
    "import nbformat as nbf\n",
    "import re\n",
    "\n",
    "def remove_html_tags(text):\n",
    "    # Define the regex pattern to detect any <b> tag with any style and any text content\n",
    "    pattern = r\"<b[^>]*>.*?</b>\"\n",
    "    # Replace the matched <b> tags with an empty string\n",
    "    text = re.sub(pattern, '', text)\n",
    "    # Remove any other HTML tags\n",
    "    clean = re.compile('<.*?>')\n",
    "    return re.sub(clean, '', text)\n",
    "\n",
    "def convert_notebook_to_markdown(notebook_file, output_file):\n",
    "    # Read the notebook\n",
    "    ntbk = nbf.read(notebook_file, nbf.NO_CONVERT)\n",
    "\n",
    "    # Open the file in write mode to overwrite existing content\n",
    "    with open(output_file, \"w\") as f:\n",
    "        for cell in ntbk.cells:\n",
    "            if cell.cell_type == 'markdown':\n",
    "                # Remove HTML tags and the specific line\n",
    "                text = remove_html_tags(cell.source)\n",
    "                f.write(text)\n",
    "                f.write(\"\\n\\n\")  # Add two newlines to separate each cell\n",
    "\n",
    "if __name__ == \"__main__\":\n",
    "    parser = argparse.ArgumentParser(description=\"Convert Jupyter Notebook to Markdown\")\n",
    "    parser.add_argument(\"notebook_file\", help=\"Path to the Jupyter Notebook file\")\n",
    "    parser.add_argument(\"output_file\", help=\"Path to the output Markdown file\")\n",
    "    args = parser.parse_args()\n",
    "\n",
    "    convert_notebook_to_markdown(args.notebook_file, args.output_file)"
   ]
  },
  {
   "cell_type": "markdown",
   "metadata": {},
   "source": [
    "python convert_notebook.py path/to/notebook.ipynb path/to/output.md"
   ]
  }
 ],
 "metadata": {
  "kernelspec": {
   "display_name": "base",
   "language": "python",
   "name": "python3"
  },
  "language_info": {
   "codemirror_mode": {
    "name": "ipython",
    "version": 3
   },
   "file_extension": ".py",
   "mimetype": "text/x-python",
   "name": "python",
   "nbconvert_exporter": "python",
   "pygments_lexer": "ipython3",
   "version": "3.12.2"
  }
 },
 "nbformat": 4,
 "nbformat_minor": 2
}
